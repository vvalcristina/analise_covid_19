{
 "cells": [
  {
   "cell_type": "markdown",
   "metadata": {},
   "source": [
    "## Análise de Dados do COVID-19\n",
    "\n",
    "Análise de séries temporais sobre a contaminação do COVID-19.\n",
    "\n",
    "Dataset utilizado: [Kagle](https://www.kaggle.com/imdevskp/corona-virus-report)."
   ]
  },
  {
   "cell_type": "code",
   "execution_count": null,
   "metadata": {},
   "outputs": [],
   "source": [
    "import pandas as pd\n",
    "import numpy as np\n",
    "from datetime import datetime\n",
    "import plotly.express as px\n",
    "import plotly.graph_objects as go"
   ]
  },
  {
   "cell_type": "code",
   "execution_count": null,
   "metadata": {},
   "outputs": [],
   "source": [
    "#Importando os dados\n",
    "df = pd.read_csv('covid_19_clean_complete.csv', parse_dates=['Date'])\n",
    "df"
   ]
  },
  {
   "cell_type": "markdown",
   "metadata": {},
   "source": [
    "Antes de iniciarmos a análise existe um fator que devemos nos atentar: \n",
    "    \n",
    "* Os nomes das colunas não podem ter caracteres especiais. \n",
    "\n",
    "E para facilitar as análises esses nomes estarão todos em letras minúsculas.\n"
   ]
  },
  {
   "cell_type": "code",
   "execution_count": null,
   "metadata": {},
   "outputs": [],
   "source": [
    "import re\n",
    "def editando_colunas(col_name):\n",
    "    return re.sub(r\"[/| ]\", \"\", col_name).lower()"
   ]
  },
  {
   "cell_type": "code",
   "execution_count": null,
   "metadata": {},
   "outputs": [],
   "source": [
    "df.columns = [editando_colunas(col) for col in df.columns]\n",
    "\n",
    "df"
   ]
  },
  {
   "cell_type": "markdown",
   "metadata": {},
   "source": [
    "Antes de iniciarmos as análises devemos ter informações sobre o Data Set analisado:\n",
    "\n",
    "* Tipos de variáveis.\n",
    "\n",
    "* Número de dados do Data Set.\n",
    "\n",
    "* Quantidade de dados nulos.\n",
    "\n",
    "* Quantidade de dados únicos."
   ]
  },
  {
   "cell_type": "code",
   "execution_count": null,
   "metadata": {},
   "outputs": [],
   "source": [
    "#Informações sobre o DataSet analisado\n",
    "covid = pd.DataFrame({'colunas' : df.columns,\n",
    "                    'tipo': df.dtypes,\n",
    "                    'nulos' : df.isna().sum(),\n",
    "                    'quantidade' : df.shape[0],\n",
    "                    'unicos': df.nunique()})\n",
    "covid['percentual'] = round(covid['nulos'] / covid['quantidade'],2)\n",
    "\n",
    "covid"
   ]
  },
  {
   "cell_type": "markdown",
   "metadata": {},
   "source": [
    "Observando as colunas percebemos que apenas a coluna Province/State possui 70% dos seus valores nulos."
   ]
  },
  {
   "cell_type": "code",
   "execution_count": null,
   "metadata": {},
   "outputs": [],
   "source": [
    "#Data Inicial\n",
    "print(min(df['date']))\n",
    "#Data final \n",
    "print(max(df['date']))"
   ]
  },
  {
   "cell_type": "markdown",
   "metadata": {},
   "source": [
    "O Data Set engloba os casos de covid a partir do dia 22/01/2020 até o dia 19/05/2020."
   ]
  },
  {
   "cell_type": "markdown",
   "metadata": {},
   "source": [
    "\n",
    "### Análises dos dados\n",
    "\n",
    "Vamos analisar os dados do Brasil:\n",
    "\n",
    "**Primeiro passo:** investigar as variáveis que temos a nossa disposição. \n",
    "\n",
    "* Temos as informações disponíveis por Estado?\n",
    "* Quais variáveis temos disponíveis e podemos trabalhar com essa base de dados?"
   ]
  },
  {
   "cell_type": "code",
   "execution_count": null,
   "metadata": {},
   "outputs": [],
   "source": [
    "df.loc[df.countryregion == 'Brazil']"
   ]
  },
  {
   "cell_type": "markdown",
   "metadata": {},
   "source": [
    "\n",
    "No Brasil não temos a informação de casos de COVID-19 a nível de estado. Verificaremos algumas outras varíaveis para verificar o avanço do COVID-19 no país.\n",
    "\n",
    "### Casos Confirmados\n",
    "\n",
    "A primeira análise diz respeito a curva dos casos confirmados."
   ]
  },
  {
   "cell_type": "code",
   "execution_count": null,
   "metadata": {},
   "outputs": [],
   "source": [
    "brasil = df.loc[(df.countryregion == 'Brazil') & (df.confirmed > 0)]"
   ]
  },
  {
   "cell_type": "code",
   "execution_count": null,
   "metadata": {},
   "outputs": [],
   "source": [
    "px.line(brasil, 'date', 'confirmed',\n",
    "        labels={'date':'Data', 'confirmed':'Numero de casos confirmados'},\n",
    "        title = 'Casos confirmados de COVID-19 no Brasil')"
   ]
  },
  {
   "cell_type": "markdown",
   "metadata": {},
   "source": [
    "### Número de casos por dia\n",
    "\n",
    "Para verificar o número de casos por dia devemos antes implementar uma função."
   ]
  },
  {
   "cell_type": "code",
   "execution_count": null,
   "metadata": {},
   "outputs": [],
   "source": [
    "#Calcula o numero de casos dia\n",
    "brasil['novoscasos'] = list(map(\n",
    "    lambda x: 0 if (x==0) else brasil['confirmed'].iloc[x] - brasil['confirmed'].iloc[x-1],\n",
    "    np.arange(brasil.shape[0])\n",
    "))"
   ]
  },
  {
   "cell_type": "code",
   "execution_count": null,
   "metadata": {},
   "outputs": [],
   "source": [
    "px.line(brasil, x = 'date', y='novoscasos', title='Novos casos de COVID-19 por dia no Brasil',\n",
    "        labels={'date':'Data', 'novoscasos':'Novos casos'})\n"
   ]
  },
  {
   "cell_type": "markdown",
   "metadata": {},
   "source": [
    "### Mortes por COVID-19\n",
    "\n",
    "Análise do número de mortes no Brasil pelo COVID-19."
   ]
  },
  {
   "cell_type": "code",
   "execution_count": null,
   "metadata": {},
   "outputs": [],
   "source": [
    "fig = go.Figure()\n",
    "fig.add_trace(go.Scatter( x =brasil.date, y=brasil.deaths, name='Mortes', mode='lines+markers',\n",
    "                         line=dict(color='red')))\n",
    "\n",
    "fig.update_layout(title='Mortes por COVID-19 no Brasil', xaxis_title='Data', yaxis_title='Número de mortes')\n",
    "\n",
    "fig.show()"
   ]
  },
  {
   "cell_type": "markdown",
   "metadata": {},
   "source": [
    "Através desde gráfico observa-se que o número de mortos pelo COVID-19 no país segue uma curva exponencial."
   ]
  },
  {
   "cell_type": "markdown",
   "metadata": {},
   "source": [
    "### Taxa de crescimento do COVID-19\n",
    "\n",
    "\n",
    "Verificaremos de forma gráfica a taxa de crescimento por dia dos casos de COVID-19 confirmados no Brasil.\n",
    "\n"
   ]
  },
  {
   "cell_type": "code",
   "execution_count": null,
   "metadata": {},
   "outputs": [],
   "source": [
    "def taxa_crescimento_diaria(data, variable, data_inicio=None):\n",
    "    if data_inicio == None:\n",
    "        data_inicio = data.date.loc[data[variable] > 0].min()\n",
    "    else:\n",
    "        data_inicio = pd.to_datetime(data_inicio)\n",
    "        \n",
    "    data_fim = data.date.max()\n",
    "    n = (data_fim - data_inicio).days\n",
    "    \n",
    "    taxas = list(map(\n",
    "        lambda x: (data[variable].iloc[x] - data[variable].iloc[x-1]) / data[variable].iloc[x-1],\n",
    "        range(1,n+1)\n",
    "    ))\n",
    "    return np.array(taxas)*100"
   ]
  },
  {
   "cell_type": "code",
   "execution_count": null,
   "metadata": {},
   "outputs": [],
   "source": [
    "tx_dia = taxa_crescimento_diaria(brasil, 'confirmed')"
   ]
  },
  {
   "cell_type": "code",
   "execution_count": null,
   "metadata": {},
   "outputs": [],
   "source": [
    "primeiro_dia = brasil.date.loc[brasil.confirmed > 0].min()\n",
    "px.line(x=pd.date_range(primeiro_dia, brasil.date.max())[1:],\n",
    "        y=tx_dia, title='Taxa de crescimento de casos de COVID-19 confirmados no Brasil',\n",
    "       labels={'y':'Taxa de crescimento', 'x':'Data'})"
   ]
  },
  {
   "cell_type": "code",
   "execution_count": null,
   "metadata": {},
   "outputs": [],
   "source": []
  },
  {
   "cell_type": "code",
   "execution_count": null,
   "metadata": {},
   "outputs": [],
   "source": []
  }
 ],
 "metadata": {
  "kernelspec": {
   "display_name": "Python 3",
   "language": "python",
   "name": "python3"
  },
  "language_info": {
   "codemirror_mode": {
    "name": "ipython",
    "version": 3
   },
   "file_extension": ".py",
   "mimetype": "text/x-python",
   "name": "python",
   "nbconvert_exporter": "python",
   "pygments_lexer": "ipython3",
   "version": "3.7.6"
  }
 },
 "nbformat": 4,
 "nbformat_minor": 2
}
