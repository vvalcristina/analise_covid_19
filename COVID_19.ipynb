{
  "nbformat": 4,
  "nbformat_minor": 0,
  "metadata": {
    "colab": {
      "name": "Avanco_COVID_19.ipynb",
      "provenance": [],
      "authorship_tag": "ABX9TyOwIulMwHPQqdSFXeLrCob5",
      "include_colab_link": true
    },
    "kernelspec": {
      "name": "python3",
      "display_name": "Python 3"
    }
  },
  "cells": [
    {
      "cell_type": "markdown",
      "metadata": {
        "id": "view-in-github",
        "colab_type": "text"
      },
      "source": [
        "<a href=\"https://colab.research.google.com/github/vvalcristina/analise_covid_19/blob/master/COVID_19.ipynb\" target=\"_parent\"><img src=\"https://colab.research.google.com/assets/colab-badge.svg\" alt=\"Open In Colab\"/></a>"
      ]
    },
    {
      "cell_type": "markdown",
      "metadata": {
        "id": "7_3oov0gpm87",
        "colab_type": "text"
      },
      "source": [
        " **Análise de Dados Covid-19**\n",
        "\n"
      ]
    },
    {
      "cell_type": "markdown",
      "metadata": {
        "id": "veVm_uIdfe4p",
        "colab_type": "text"
      },
      "source": [
        "Análise das séries temporais sobre a contaminação do COVID-19.\n",
        "Utilizando o DataSet do [Kagle](https://www.kaggle.com/imdevskp/corona-virus-report)."
      ]
    },
    {
      "cell_type": "code",
      "metadata": {
        "id": "brp8m963O_1S",
        "colab_type": "code",
        "colab": {}
      },
      "source": [
        "#Importações de dados\n",
        "import pandas as pd\n",
        "import numpy as np\n",
        "from datetime import datetime\n",
        "import plotly.express as px\n",
        "import plotly.graph_objects as go"
      ],
      "execution_count": 0,
      "outputs": []
    },
    {
      "cell_type": "code",
      "metadata": {
        "id": "cvFHAT9WQyMh",
        "colab_type": "code",
        "colab": {}
      },
      "source": [
        "#Importando o DataSet\n",
        "df = pd.read_csv(\"covid_19_clean_complete.csv\", parse_dates=['Date'])"
      ],
      "execution_count": 0,
      "outputs": []
    },
    {
      "cell_type": "code",
      "metadata": {
        "id": "_UMXiR4qiibk",
        "colab_type": "code",
        "outputId": "a8973aa9-5183-4a7b-f986-7fc1ca937fe6",
        "colab": {
          "base_uri": "https://localhost:8080/",
          "height": 204
        }
      },
      "source": [
        "#Verificando o DataFrame\n",
        "df.head()"
      ],
      "execution_count": 3,
      "outputs": [
        {
          "output_type": "execute_result",
          "data": {
            "text/html": [
              "<div>\n",
              "<style scoped>\n",
              "    .dataframe tbody tr th:only-of-type {\n",
              "        vertical-align: middle;\n",
              "    }\n",
              "\n",
              "    .dataframe tbody tr th {\n",
              "        vertical-align: top;\n",
              "    }\n",
              "\n",
              "    .dataframe thead th {\n",
              "        text-align: right;\n",
              "    }\n",
              "</style>\n",
              "<table border=\"1\" class=\"dataframe\">\n",
              "  <thead>\n",
              "    <tr style=\"text-align: right;\">\n",
              "      <th></th>\n",
              "      <th>Province/State</th>\n",
              "      <th>Country/Region</th>\n",
              "      <th>Lat</th>\n",
              "      <th>Long</th>\n",
              "      <th>Date</th>\n",
              "      <th>Confirmed</th>\n",
              "      <th>Deaths</th>\n",
              "      <th>Recovered</th>\n",
              "    </tr>\n",
              "  </thead>\n",
              "  <tbody>\n",
              "    <tr>\n",
              "      <th>0</th>\n",
              "      <td>NaN</td>\n",
              "      <td>Afghanistan</td>\n",
              "      <td>33.0000</td>\n",
              "      <td>65.0000</td>\n",
              "      <td>2020-01-22</td>\n",
              "      <td>0</td>\n",
              "      <td>0</td>\n",
              "      <td>0</td>\n",
              "    </tr>\n",
              "    <tr>\n",
              "      <th>1</th>\n",
              "      <td>NaN</td>\n",
              "      <td>Albania</td>\n",
              "      <td>41.1533</td>\n",
              "      <td>20.1683</td>\n",
              "      <td>2020-01-22</td>\n",
              "      <td>0</td>\n",
              "      <td>0</td>\n",
              "      <td>0</td>\n",
              "    </tr>\n",
              "    <tr>\n",
              "      <th>2</th>\n",
              "      <td>NaN</td>\n",
              "      <td>Algeria</td>\n",
              "      <td>28.0339</td>\n",
              "      <td>1.6596</td>\n",
              "      <td>2020-01-22</td>\n",
              "      <td>0</td>\n",
              "      <td>0</td>\n",
              "      <td>0</td>\n",
              "    </tr>\n",
              "    <tr>\n",
              "      <th>3</th>\n",
              "      <td>NaN</td>\n",
              "      <td>Andorra</td>\n",
              "      <td>42.5063</td>\n",
              "      <td>1.5218</td>\n",
              "      <td>2020-01-22</td>\n",
              "      <td>0</td>\n",
              "      <td>0</td>\n",
              "      <td>0</td>\n",
              "    </tr>\n",
              "    <tr>\n",
              "      <th>4</th>\n",
              "      <td>NaN</td>\n",
              "      <td>Angola</td>\n",
              "      <td>-11.2027</td>\n",
              "      <td>17.8739</td>\n",
              "      <td>2020-01-22</td>\n",
              "      <td>0</td>\n",
              "      <td>0</td>\n",
              "      <td>0</td>\n",
              "    </tr>\n",
              "  </tbody>\n",
              "</table>\n",
              "</div>"
            ],
            "text/plain": [
              "  Province/State Country/Region      Lat  ...  Confirmed Deaths  Recovered\n",
              "0            NaN    Afghanistan  33.0000  ...          0      0          0\n",
              "1            NaN        Albania  41.1533  ...          0      0          0\n",
              "2            NaN        Algeria  28.0339  ...          0      0          0\n",
              "3            NaN        Andorra  42.5063  ...          0      0          0\n",
              "4            NaN         Angola -11.2027  ...          0      0          0\n",
              "\n",
              "[5 rows x 8 columns]"
            ]
          },
          "metadata": {
            "tags": []
          },
          "execution_count": 3
        }
      ]
    },
    {
      "cell_type": "markdown",
      "metadata": {
        "id": "QL5Eznskh1Ao",
        "colab_type": "text"
      },
      "source": [
        "**Pré-processamento dos dados**"
      ]
    },
    {
      "cell_type": "markdown",
      "metadata": {
        "id": "i5vvkW1QiEMM",
        "colab_type": "text"
      },
      "source": [
        "Antes de iniciarmos as analises removeremos os Warnings do DataSet"
      ]
    },
    {
      "cell_type": "code",
      "metadata": {
        "id": "EEhfc5df4w-1",
        "colab_type": "code",
        "colab": {}
      },
      "source": [
        "import warnings\n",
        "warnings.filterwarnings('ignore')"
      ],
      "execution_count": 0,
      "outputs": []
    },
    {
      "cell_type": "markdown",
      "metadata": {
        "id": "-0UvGQivse46",
        "colab_type": "text"
      },
      "source": [
        "Antes de iniciarmos a análise existem 1 fator que devemos nos atentar, as colunas não podem ter caracteres especiais.\n"
      ]
    },
    {
      "cell_type": "code",
      "metadata": {
        "id": "EIvKHb3GsXUT",
        "colab_type": "code",
        "colab": {}
      },
      "source": [
        "#Retirando os caracteres especiais\n",
        "import re\n",
        "def corrige_colunas(col_name):\n",
        "    return re.sub(r\"[/| ]\", \"\", col_name)"
      ],
      "execution_count": 0,
      "outputs": []
    },
    {
      "cell_type": "code",
      "metadata": {
        "id": "uz9FNSIzs4R0",
        "colab_type": "code",
        "colab": {}
      },
      "source": [
        "df.columns = [corrige_colunas(col) for col in df.columns]"
      ],
      "execution_count": 0,
      "outputs": []
    },
    {
      "cell_type": "code",
      "metadata": {
        "id": "JJKwLpfBXRUe",
        "colab_type": "code",
        "outputId": "93e005c4-b2b4-46c3-8289-76defab4c00a",
        "colab": {
          "base_uri": "https://localhost:8080/",
          "height": 297
        }
      },
      "source": [
        "#Verificando os dados de coluna\n",
        "cons = pd.DataFrame({'colunas' : df.columns,\n",
        "                    'tipo': df.dtypes,\n",
        "                    'nulos' : df.isna().sum(),\n",
        "                    'quantidade' : df.shape[0],\n",
        "                    'unicos': df.nunique()})\n",
        "cons['percentual'] = round(cons['nulos'] / cons['quantidade'],2)\n",
        "\n",
        "cons"
      ],
      "execution_count": 7,
      "outputs": [
        {
          "output_type": "execute_result",
          "data": {
            "text/html": [
              "<div>\n",
              "<style scoped>\n",
              "    .dataframe tbody tr th:only-of-type {\n",
              "        vertical-align: middle;\n",
              "    }\n",
              "\n",
              "    .dataframe tbody tr th {\n",
              "        vertical-align: top;\n",
              "    }\n",
              "\n",
              "    .dataframe thead th {\n",
              "        text-align: right;\n",
              "    }\n",
              "</style>\n",
              "<table border=\"1\" class=\"dataframe\">\n",
              "  <thead>\n",
              "    <tr style=\"text-align: right;\">\n",
              "      <th></th>\n",
              "      <th>colunas</th>\n",
              "      <th>tipo</th>\n",
              "      <th>nulos</th>\n",
              "      <th>quantidade</th>\n",
              "      <th>unicos</th>\n",
              "      <th>percentual</th>\n",
              "    </tr>\n",
              "  </thead>\n",
              "  <tbody>\n",
              "    <tr>\n",
              "      <th>ProvinceState</th>\n",
              "      <td>ProvinceState</td>\n",
              "      <td>object</td>\n",
              "      <td>23125</td>\n",
              "      <td>33125</td>\n",
              "      <td>80</td>\n",
              "      <td>0.7</td>\n",
              "    </tr>\n",
              "    <tr>\n",
              "      <th>CountryRegion</th>\n",
              "      <td>CountryRegion</td>\n",
              "      <td>object</td>\n",
              "      <td>0</td>\n",
              "      <td>33125</td>\n",
              "      <td>188</td>\n",
              "      <td>0.0</td>\n",
              "    </tr>\n",
              "    <tr>\n",
              "      <th>Lat</th>\n",
              "      <td>Lat</td>\n",
              "      <td>float64</td>\n",
              "      <td>0</td>\n",
              "      <td>33125</td>\n",
              "      <td>256</td>\n",
              "      <td>0.0</td>\n",
              "    </tr>\n",
              "    <tr>\n",
              "      <th>Long</th>\n",
              "      <td>Long</td>\n",
              "      <td>float64</td>\n",
              "      <td>0</td>\n",
              "      <td>33125</td>\n",
              "      <td>259</td>\n",
              "      <td>0.0</td>\n",
              "    </tr>\n",
              "    <tr>\n",
              "      <th>Date</th>\n",
              "      <td>Date</td>\n",
              "      <td>datetime64[ns]</td>\n",
              "      <td>0</td>\n",
              "      <td>33125</td>\n",
              "      <td>125</td>\n",
              "      <td>0.0</td>\n",
              "    </tr>\n",
              "    <tr>\n",
              "      <th>Confirmed</th>\n",
              "      <td>Confirmed</td>\n",
              "      <td>int64</td>\n",
              "      <td>0</td>\n",
              "      <td>33125</td>\n",
              "      <td>5346</td>\n",
              "      <td>0.0</td>\n",
              "    </tr>\n",
              "    <tr>\n",
              "      <th>Deaths</th>\n",
              "      <td>Deaths</td>\n",
              "      <td>int64</td>\n",
              "      <td>0</td>\n",
              "      <td>33125</td>\n",
              "      <td>1750</td>\n",
              "      <td>0.0</td>\n",
              "    </tr>\n",
              "    <tr>\n",
              "      <th>Recovered</th>\n",
              "      <td>Recovered</td>\n",
              "      <td>int64</td>\n",
              "      <td>0</td>\n",
              "      <td>33125</td>\n",
              "      <td>3217</td>\n",
              "      <td>0.0</td>\n",
              "    </tr>\n",
              "  </tbody>\n",
              "</table>\n",
              "</div>"
            ],
            "text/plain": [
              "                     colunas            tipo  ...  unicos  percentual\n",
              "ProvinceState  ProvinceState          object  ...      80         0.7\n",
              "CountryRegion  CountryRegion          object  ...     188         0.0\n",
              "Lat                      Lat         float64  ...     256         0.0\n",
              "Long                    Long         float64  ...     259         0.0\n",
              "Date                    Date  datetime64[ns]  ...     125         0.0\n",
              "Confirmed          Confirmed           int64  ...    5346         0.0\n",
              "Deaths                Deaths           int64  ...    1750         0.0\n",
              "Recovered          Recovered           int64  ...    3217         0.0\n",
              "\n",
              "[8 rows x 6 columns]"
            ]
          },
          "metadata": {
            "tags": []
          },
          "execution_count": 7
        }
      ]
    },
    {
      "cell_type": "markdown",
      "metadata": {
        "id": "_h0lAa3FgXun",
        "colab_type": "text"
      },
      "source": [
        "Observando as colunas percebemos que apenas a coluna Province/State possui 70% dos seus valores nulos.\n"
      ]
    },
    {
      "cell_type": "code",
      "metadata": {
        "id": "IVhMVrMEjEWf",
        "colab_type": "code",
        "outputId": "1e73008a-1194-4250-9bb7-aacc072b55b8",
        "colab": {
          "base_uri": "https://localhost:8080/",
          "height": 204
        }
      },
      "source": [
        "df.head()"
      ],
      "execution_count": 8,
      "outputs": [
        {
          "output_type": "execute_result",
          "data": {
            "text/html": [
              "<div>\n",
              "<style scoped>\n",
              "    .dataframe tbody tr th:only-of-type {\n",
              "        vertical-align: middle;\n",
              "    }\n",
              "\n",
              "    .dataframe tbody tr th {\n",
              "        vertical-align: top;\n",
              "    }\n",
              "\n",
              "    .dataframe thead th {\n",
              "        text-align: right;\n",
              "    }\n",
              "</style>\n",
              "<table border=\"1\" class=\"dataframe\">\n",
              "  <thead>\n",
              "    <tr style=\"text-align: right;\">\n",
              "      <th></th>\n",
              "      <th>ProvinceState</th>\n",
              "      <th>CountryRegion</th>\n",
              "      <th>Lat</th>\n",
              "      <th>Long</th>\n",
              "      <th>Date</th>\n",
              "      <th>Confirmed</th>\n",
              "      <th>Deaths</th>\n",
              "      <th>Recovered</th>\n",
              "    </tr>\n",
              "  </thead>\n",
              "  <tbody>\n",
              "    <tr>\n",
              "      <th>0</th>\n",
              "      <td>NaN</td>\n",
              "      <td>Afghanistan</td>\n",
              "      <td>33.0000</td>\n",
              "      <td>65.0000</td>\n",
              "      <td>2020-01-22</td>\n",
              "      <td>0</td>\n",
              "      <td>0</td>\n",
              "      <td>0</td>\n",
              "    </tr>\n",
              "    <tr>\n",
              "      <th>1</th>\n",
              "      <td>NaN</td>\n",
              "      <td>Albania</td>\n",
              "      <td>41.1533</td>\n",
              "      <td>20.1683</td>\n",
              "      <td>2020-01-22</td>\n",
              "      <td>0</td>\n",
              "      <td>0</td>\n",
              "      <td>0</td>\n",
              "    </tr>\n",
              "    <tr>\n",
              "      <th>2</th>\n",
              "      <td>NaN</td>\n",
              "      <td>Algeria</td>\n",
              "      <td>28.0339</td>\n",
              "      <td>1.6596</td>\n",
              "      <td>2020-01-22</td>\n",
              "      <td>0</td>\n",
              "      <td>0</td>\n",
              "      <td>0</td>\n",
              "    </tr>\n",
              "    <tr>\n",
              "      <th>3</th>\n",
              "      <td>NaN</td>\n",
              "      <td>Andorra</td>\n",
              "      <td>42.5063</td>\n",
              "      <td>1.5218</td>\n",
              "      <td>2020-01-22</td>\n",
              "      <td>0</td>\n",
              "      <td>0</td>\n",
              "      <td>0</td>\n",
              "    </tr>\n",
              "    <tr>\n",
              "      <th>4</th>\n",
              "      <td>NaN</td>\n",
              "      <td>Angola</td>\n",
              "      <td>-11.2027</td>\n",
              "      <td>17.8739</td>\n",
              "      <td>2020-01-22</td>\n",
              "      <td>0</td>\n",
              "      <td>0</td>\n",
              "      <td>0</td>\n",
              "    </tr>\n",
              "  </tbody>\n",
              "</table>\n",
              "</div>"
            ],
            "text/plain": [
              "  ProvinceState CountryRegion      Lat  ...  Confirmed Deaths  Recovered\n",
              "0           NaN   Afghanistan  33.0000  ...          0      0          0\n",
              "1           NaN       Albania  41.1533  ...          0      0          0\n",
              "2           NaN       Algeria  28.0339  ...          0      0          0\n",
              "3           NaN       Andorra  42.5063  ...          0      0          0\n",
              "4           NaN        Angola -11.2027  ...          0      0          0\n",
              "\n",
              "[5 rows x 8 columns]"
            ]
          },
          "metadata": {
            "tags": []
          },
          "execution_count": 8
        }
      ]
    },
    {
      "cell_type": "markdown",
      "metadata": {
        "id": "zTeH8-UejHJY",
        "colab_type": "text"
      },
      "source": [
        "O dataset possui os números de casos confirmados, mortos e recuperados. \n",
        "\n",
        "**Casos Ativos**\n",
        "\n",
        "Para nossa análise os necessitamos saber o total de casos ativos, para isso subtraimos dos casos confirmados o número de mortes e casos recuperados."
      ]
    },
    {
      "cell_type": "code",
      "metadata": {
        "id": "bodBeSglmFJA",
        "colab_type": "code",
        "colab": {}
      },
      "source": [
        "#Casos ativos\n",
        "df['Active'] = df['Confirmed'] - df['Deaths'] - df['Recovered']"
      ],
      "execution_count": 0,
      "outputs": []
    },
    {
      "cell_type": "markdown",
      "metadata": {
        "id": "uQPIFvTioATF",
        "colab_type": "text"
      },
      "source": [
        "**Casos nulos**\n",
        "\n",
        "Nesse DataSet temos alguns valores nulos, então trataremos esses dados nessa etapa. A forma com que tratamos esses dados é feita de acordo com o método escolhido pelo cientista da análise. \n",
        "\n",
        "Nesta análise os valores nulos na coluna *ProvinceState* serão substituídos por um espaço. Já os valores nulos nas colunas *Confirmed, Deaths, Recovered e Ativos* substituímos os valores nulos por 0 (zero)."
      ]
    },
    {
      "cell_type": "code",
      "metadata": {
        "id": "UzgneJN_orOF",
        "colab_type": "code",
        "colab": {}
      },
      "source": [
        "df[['ProvinceState']] = df[['ProvinceState']].fillna('')\n",
        "df[['Confirmed','Deaths','Recovered','Active']] = df[['Confirmed','Deaths','Recovered','Active']].fillna('0')"
      ],
      "execution_count": 0,
      "outputs": []
    },
    {
      "cell_type": "markdown",
      "metadata": {
        "id": "d7TrEFAfuOXD",
        "colab_type": "text"
      },
      "source": [
        "Verificando como ficou nosso DataFrame."
      ]
    },
    {
      "cell_type": "code",
      "metadata": {
        "id": "5JGYfl8ruSP5",
        "colab_type": "code",
        "outputId": "4f43be1f-61cc-4fa9-eede-cb04a1c663d3",
        "colab": {
          "base_uri": "https://localhost:8080/",
          "height": 204
        }
      },
      "source": [
        "df.head()"
      ],
      "execution_count": 13,
      "outputs": [
        {
          "output_type": "execute_result",
          "data": {
            "text/html": [
              "<div>\n",
              "<style scoped>\n",
              "    .dataframe tbody tr th:only-of-type {\n",
              "        vertical-align: middle;\n",
              "    }\n",
              "\n",
              "    .dataframe tbody tr th {\n",
              "        vertical-align: top;\n",
              "    }\n",
              "\n",
              "    .dataframe thead th {\n",
              "        text-align: right;\n",
              "    }\n",
              "</style>\n",
              "<table border=\"1\" class=\"dataframe\">\n",
              "  <thead>\n",
              "    <tr style=\"text-align: right;\">\n",
              "      <th></th>\n",
              "      <th>ProvinceState</th>\n",
              "      <th>CountryRegion</th>\n",
              "      <th>Lat</th>\n",
              "      <th>Long</th>\n",
              "      <th>Date</th>\n",
              "      <th>Confirmed</th>\n",
              "      <th>Deaths</th>\n",
              "      <th>Recovered</th>\n",
              "      <th>Active</th>\n",
              "    </tr>\n",
              "  </thead>\n",
              "  <tbody>\n",
              "    <tr>\n",
              "      <th>0</th>\n",
              "      <td></td>\n",
              "      <td>Afghanistan</td>\n",
              "      <td>33.0000</td>\n",
              "      <td>65.0000</td>\n",
              "      <td>2020-01-22</td>\n",
              "      <td>0</td>\n",
              "      <td>0</td>\n",
              "      <td>0</td>\n",
              "      <td>0</td>\n",
              "    </tr>\n",
              "    <tr>\n",
              "      <th>1</th>\n",
              "      <td></td>\n",
              "      <td>Albania</td>\n",
              "      <td>41.1533</td>\n",
              "      <td>20.1683</td>\n",
              "      <td>2020-01-22</td>\n",
              "      <td>0</td>\n",
              "      <td>0</td>\n",
              "      <td>0</td>\n",
              "      <td>0</td>\n",
              "    </tr>\n",
              "    <tr>\n",
              "      <th>2</th>\n",
              "      <td></td>\n",
              "      <td>Algeria</td>\n",
              "      <td>28.0339</td>\n",
              "      <td>1.6596</td>\n",
              "      <td>2020-01-22</td>\n",
              "      <td>0</td>\n",
              "      <td>0</td>\n",
              "      <td>0</td>\n",
              "      <td>0</td>\n",
              "    </tr>\n",
              "    <tr>\n",
              "      <th>3</th>\n",
              "      <td></td>\n",
              "      <td>Andorra</td>\n",
              "      <td>42.5063</td>\n",
              "      <td>1.5218</td>\n",
              "      <td>2020-01-22</td>\n",
              "      <td>0</td>\n",
              "      <td>0</td>\n",
              "      <td>0</td>\n",
              "      <td>0</td>\n",
              "    </tr>\n",
              "    <tr>\n",
              "      <th>4</th>\n",
              "      <td></td>\n",
              "      <td>Angola</td>\n",
              "      <td>-11.2027</td>\n",
              "      <td>17.8739</td>\n",
              "      <td>2020-01-22</td>\n",
              "      <td>0</td>\n",
              "      <td>0</td>\n",
              "      <td>0</td>\n",
              "      <td>0</td>\n",
              "    </tr>\n",
              "  </tbody>\n",
              "</table>\n",
              "</div>"
            ],
            "text/plain": [
              "  ProvinceState CountryRegion      Lat  ...  Deaths Recovered  Active\n",
              "0                 Afghanistan  33.0000  ...       0         0       0\n",
              "1                     Albania  41.1533  ...       0         0       0\n",
              "2                     Algeria  28.0339  ...       0         0       0\n",
              "3                     Andorra  42.5063  ...       0         0       0\n",
              "4                      Angola -11.2027  ...       0         0       0\n",
              "\n",
              "[5 rows x 9 columns]"
            ]
          },
          "metadata": {
            "tags": []
          },
          "execution_count": 13
        }
      ]
    },
    {
      "cell_type": "markdown",
      "metadata": {
        "id": "H4Pea0TwNpQF",
        "colab_type": "text"
      },
      "source": [
        "**Analisando os dados temporais**"
      ]
    },
    {
      "cell_type": "markdown",
      "metadata": {
        "id": "_bKoNmcDuZEw",
        "colab_type": "text"
      },
      "source": [
        "Agora analisaremos as informações sobre as séries temporais que temos disponíveis."
      ]
    },
    {
      "cell_type": "code",
      "metadata": {
        "id": "aFIDAh50vbwD",
        "colab_type": "code",
        "outputId": "15f0c2ec-7b0c-4400-af99-e2391f0e175c",
        "colab": {
          "base_uri": "https://localhost:8080/",
          "height": 136
        }
      },
      "source": [
        "df.Date.describe()"
      ],
      "execution_count": 14,
      "outputs": [
        {
          "output_type": "execute_result",
          "data": {
            "text/plain": [
              "count                   33125\n",
              "unique                    125\n",
              "top       2020-04-09 00:00:00\n",
              "freq                      265\n",
              "first     2020-01-22 00:00:00\n",
              "last      2020-05-25 00:00:00\n",
              "Name: Date, dtype: object"
            ]
          },
          "metadata": {
            "tags": []
          },
          "execution_count": 14
        }
      ]
    },
    {
      "cell_type": "markdown",
      "metadata": {
        "id": "ZnVGt8YnN0lL",
        "colab_type": "text"
      },
      "source": [
        "Temos nesse DataFrame um total de 33125 dados temporais, sendo destes 125 dados únicos. \n",
        "\n",
        "A primeira data reportada nesse dataframe é 22 de janeiro de 2020 e a última dia 25 de maio de 2020."
      ]
    },
    {
      "cell_type": "markdown",
      "metadata": {
        "id": "CVqvwgEgOSy3",
        "colab_type": "text"
      },
      "source": [
        "**Agrupando os dados**\n",
        "\n",
        "Para facilitar as análises os dados serão agrupados.\n",
        "\n",
        "* Agruparemos os dados por data e região."
      ]
    },
    {
      "cell_type": "code",
      "metadata": {
        "id": "Qb9h5KO_OcRx",
        "colab_type": "code",
        "colab": {}
      },
      "source": [
        "df_grouped = df.groupby(['Date', 'CountryRegion'])['Confirmed','Deaths','Recovered','Active'].sum().reset_index()"
      ],
      "execution_count": 0,
      "outputs": []
    },
    {
      "cell_type": "markdown",
      "metadata": {
        "id": "OufgOo77Q7Ak",
        "colab_type": "text"
      },
      "source": [
        "* Os dados serão organizados em ordem descrescente do local com maior numero de casos, para o menor."
      ]
    },
    {
      "cell_type": "code",
      "metadata": {
        "id": "jR1c4zMNUSrx",
        "colab_type": "code",
        "outputId": "fe77e0ab-fbf2-4fc1-950f-16a337dcbaab",
        "colab": {
          "base_uri": "https://localhost:8080/",
          "height": 419
        }
      },
      "source": [
        "df_grouped.sort_values(by='Confirmed', ascending=False)"
      ],
      "execution_count": 16,
      "outputs": [
        {
          "output_type": "execute_result",
          "data": {
            "text/html": [
              "<div>\n",
              "<style scoped>\n",
              "    .dataframe tbody tr th:only-of-type {\n",
              "        vertical-align: middle;\n",
              "    }\n",
              "\n",
              "    .dataframe tbody tr th {\n",
              "        vertical-align: top;\n",
              "    }\n",
              "\n",
              "    .dataframe thead th {\n",
              "        text-align: right;\n",
              "    }\n",
              "</style>\n",
              "<table border=\"1\" class=\"dataframe\">\n",
              "  <thead>\n",
              "    <tr style=\"text-align: right;\">\n",
              "      <th></th>\n",
              "      <th>Date</th>\n",
              "      <th>CountryRegion</th>\n",
              "      <th>Confirmed</th>\n",
              "      <th>Deaths</th>\n",
              "      <th>Recovered</th>\n",
              "      <th>Active</th>\n",
              "    </tr>\n",
              "  </thead>\n",
              "  <tbody>\n",
              "    <tr>\n",
              "      <th>23486</th>\n",
              "      <td>2020-05-25</td>\n",
              "      <td>US</td>\n",
              "      <td>1662302</td>\n",
              "      <td>98220</td>\n",
              "      <td>379157</td>\n",
              "      <td>1184925</td>\n",
              "    </tr>\n",
              "    <tr>\n",
              "      <th>23298</th>\n",
              "      <td>2020-05-24</td>\n",
              "      <td>US</td>\n",
              "      <td>1643246</td>\n",
              "      <td>97720</td>\n",
              "      <td>366736</td>\n",
              "      <td>1178790</td>\n",
              "    </tr>\n",
              "    <tr>\n",
              "      <th>23110</th>\n",
              "      <td>2020-05-23</td>\n",
              "      <td>US</td>\n",
              "      <td>1622612</td>\n",
              "      <td>97087</td>\n",
              "      <td>361239</td>\n",
              "      <td>1164286</td>\n",
              "    </tr>\n",
              "    <tr>\n",
              "      <th>22922</th>\n",
              "      <td>2020-05-22</td>\n",
              "      <td>US</td>\n",
              "      <td>1600937</td>\n",
              "      <td>95979</td>\n",
              "      <td>350135</td>\n",
              "      <td>1154823</td>\n",
              "    </tr>\n",
              "    <tr>\n",
              "      <th>22734</th>\n",
              "      <td>2020-05-21</td>\n",
              "      <td>US</td>\n",
              "      <td>1577147</td>\n",
              "      <td>94702</td>\n",
              "      <td>298418</td>\n",
              "      <td>1184027</td>\n",
              "    </tr>\n",
              "    <tr>\n",
              "      <th>...</th>\n",
              "      <td>...</td>\n",
              "      <td>...</td>\n",
              "      <td>...</td>\n",
              "      <td>...</td>\n",
              "      <td>...</td>\n",
              "      <td>...</td>\n",
              "    </tr>\n",
              "    <tr>\n",
              "      <th>6031</th>\n",
              "      <td>2020-02-23</td>\n",
              "      <td>Belarus</td>\n",
              "      <td>0</td>\n",
              "      <td>0</td>\n",
              "      <td>0</td>\n",
              "      <td>0</td>\n",
              "    </tr>\n",
              "    <tr>\n",
              "      <th>6033</th>\n",
              "      <td>2020-02-23</td>\n",
              "      <td>Belize</td>\n",
              "      <td>0</td>\n",
              "      <td>0</td>\n",
              "      <td>0</td>\n",
              "      <td>0</td>\n",
              "    </tr>\n",
              "    <tr>\n",
              "      <th>6034</th>\n",
              "      <td>2020-02-23</td>\n",
              "      <td>Benin</td>\n",
              "      <td>0</td>\n",
              "      <td>0</td>\n",
              "      <td>0</td>\n",
              "      <td>0</td>\n",
              "    </tr>\n",
              "    <tr>\n",
              "      <th>6035</th>\n",
              "      <td>2020-02-23</td>\n",
              "      <td>Bhutan</td>\n",
              "      <td>0</td>\n",
              "      <td>0</td>\n",
              "      <td>0</td>\n",
              "      <td>0</td>\n",
              "    </tr>\n",
              "    <tr>\n",
              "      <th>0</th>\n",
              "      <td>2020-01-22</td>\n",
              "      <td>Afghanistan</td>\n",
              "      <td>0</td>\n",
              "      <td>0</td>\n",
              "      <td>0</td>\n",
              "      <td>0</td>\n",
              "    </tr>\n",
              "  </tbody>\n",
              "</table>\n",
              "<p>23500 rows × 6 columns</p>\n",
              "</div>"
            ],
            "text/plain": [
              "            Date CountryRegion  Confirmed  Deaths  Recovered   Active\n",
              "23486 2020-05-25            US    1662302   98220     379157  1184925\n",
              "23298 2020-05-24            US    1643246   97720     366736  1178790\n",
              "23110 2020-05-23            US    1622612   97087     361239  1164286\n",
              "22922 2020-05-22            US    1600937   95979     350135  1154823\n",
              "22734 2020-05-21            US    1577147   94702     298418  1184027\n",
              "...          ...           ...        ...     ...        ...      ...\n",
              "6031  2020-02-23       Belarus          0       0          0        0\n",
              "6033  2020-02-23        Belize          0       0          0        0\n",
              "6034  2020-02-23         Benin          0       0          0        0\n",
              "6035  2020-02-23        Bhutan          0       0          0        0\n",
              "0     2020-01-22   Afghanistan          0       0          0        0\n",
              "\n",
              "[23500 rows x 6 columns]"
            ]
          },
          "metadata": {
            "tags": []
          },
          "execution_count": 16
        }
      ]
    },
    {
      "cell_type": "markdown",
      "metadata": {
        "id": "Rt1TE7FuYw_s",
        "colab_type": "text"
      },
      "source": [
        "* Iremos agrupar os dados por região e ordenar pela ordem decrescente"
      ]
    },
    {
      "cell_type": "code",
      "metadata": {
        "id": "KaLtCiTvY0HJ",
        "colab_type": "code",
        "colab": {}
      },
      "source": [
        "df_region = df.groupby('CountryRegion')['Confirmed','Deaths','Recovered','Active'].sum().reset_index()"
      ],
      "execution_count": 0,
      "outputs": []
    },
    {
      "cell_type": "code",
      "metadata": {
        "id": "izLD1PVuZCYw",
        "colab_type": "code",
        "outputId": "2ce0f225-83be-4ddc-9e65-6b10e949d76e",
        "colab": {
          "base_uri": "https://localhost:8080/",
          "height": 419
        }
      },
      "source": [
        "df_region.sort_values(by='Confirmed', ascending=False)"
      ],
      "execution_count": 18,
      "outputs": [
        {
          "output_type": "execute_result",
          "data": {
            "text/html": [
              "<div>\n",
              "<style scoped>\n",
              "    .dataframe tbody tr th:only-of-type {\n",
              "        vertical-align: middle;\n",
              "    }\n",
              "\n",
              "    .dataframe tbody tr th {\n",
              "        vertical-align: top;\n",
              "    }\n",
              "\n",
              "    .dataframe thead th {\n",
              "        text-align: right;\n",
              "    }\n",
              "</style>\n",
              "<table border=\"1\" class=\"dataframe\">\n",
              "  <thead>\n",
              "    <tr style=\"text-align: right;\">\n",
              "      <th></th>\n",
              "      <th>CountryRegion</th>\n",
              "      <th>Confirmed</th>\n",
              "      <th>Deaths</th>\n",
              "      <th>Recovered</th>\n",
              "      <th>Active</th>\n",
              "    </tr>\n",
              "  </thead>\n",
              "  <tbody>\n",
              "    <tr>\n",
              "      <th>174</th>\n",
              "      <td>US</td>\n",
              "      <td>55417854</td>\n",
              "      <td>3123056</td>\n",
              "      <td>8043776</td>\n",
              "      <td>44251022</td>\n",
              "    </tr>\n",
              "    <tr>\n",
              "      <th>85</th>\n",
              "      <td>Italy</td>\n",
              "      <td>11665792</td>\n",
              "      <td>1535321</td>\n",
              "      <td>4210157</td>\n",
              "      <td>5920314</td>\n",
              "    </tr>\n",
              "    <tr>\n",
              "      <th>158</th>\n",
              "      <td>Spain</td>\n",
              "      <td>11654432</td>\n",
              "      <td>1274893</td>\n",
              "      <td>5619895</td>\n",
              "      <td>4759644</td>\n",
              "    </tr>\n",
              "    <tr>\n",
              "      <th>178</th>\n",
              "      <td>United Kingdom</td>\n",
              "      <td>8883938</td>\n",
              "      <td>1291876</td>\n",
              "      <td>42668</td>\n",
              "      <td>7549394</td>\n",
              "    </tr>\n",
              "    <tr>\n",
              "      <th>66</th>\n",
              "      <td>Germany</td>\n",
              "      <td>8865057</td>\n",
              "      <td>311294</td>\n",
              "      <td>5940931</td>\n",
              "      <td>2612832</td>\n",
              "    </tr>\n",
              "    <tr>\n",
              "      <th>...</th>\n",
              "      <td>...</td>\n",
              "      <td>...</td>\n",
              "      <td>...</td>\n",
              "      <td>...</td>\n",
              "      <td>...</td>\n",
              "    </tr>\n",
              "    <tr>\n",
              "      <th>38</th>\n",
              "      <td>Comoros</td>\n",
              "      <td>557</td>\n",
              "      <td>20</td>\n",
              "      <td>112</td>\n",
              "      <td>425</td>\n",
              "    </tr>\n",
              "    <tr>\n",
              "      <th>103</th>\n",
              "      <td>MS Zaandam</td>\n",
              "      <td>503</td>\n",
              "      <td>110</td>\n",
              "      <td>0</td>\n",
              "      <td>393</td>\n",
              "    </tr>\n",
              "    <tr>\n",
              "      <th>131</th>\n",
              "      <td>Papua New Guinea</td>\n",
              "      <td>351</td>\n",
              "      <td>0</td>\n",
              "      <td>176</td>\n",
              "      <td>175</td>\n",
              "    </tr>\n",
              "    <tr>\n",
              "      <th>184</th>\n",
              "      <td>Western Sahara</td>\n",
              "      <td>298</td>\n",
              "      <td>0</td>\n",
              "      <td>180</td>\n",
              "      <td>118</td>\n",
              "    </tr>\n",
              "    <tr>\n",
              "      <th>97</th>\n",
              "      <td>Lesotho</td>\n",
              "      <td>17</td>\n",
              "      <td>0</td>\n",
              "      <td>0</td>\n",
              "      <td>17</td>\n",
              "    </tr>\n",
              "  </tbody>\n",
              "</table>\n",
              "<p>188 rows × 5 columns</p>\n",
              "</div>"
            ],
            "text/plain": [
              "        CountryRegion  Confirmed   Deaths  Recovered    Active\n",
              "174                US   55417854  3123056    8043776  44251022\n",
              "85              Italy   11665792  1535321    4210157   5920314\n",
              "158             Spain   11654432  1274893    5619895   4759644\n",
              "178    United Kingdom    8883938  1291876      42668   7549394\n",
              "66            Germany    8865057   311294    5940931   2612832\n",
              "..                ...        ...      ...        ...       ...\n",
              "38            Comoros        557       20        112       425\n",
              "103        MS Zaandam        503      110          0       393\n",
              "131  Papua New Guinea        351        0        176       175\n",
              "184    Western Sahara        298        0        180       118\n",
              "97            Lesotho         17        0          0        17\n",
              "\n",
              "[188 rows x 5 columns]"
            ]
          },
          "metadata": {
            "tags": []
          },
          "execution_count": 18
        }
      ]
    },
    {
      "cell_type": "markdown",
      "metadata": {
        "id": "bwffKP7bvLIn",
        "colab_type": "text"
      },
      "source": [
        "* Agrupando o DataFrame por data a quantidade de casos recuperados, mortos e ativos. "
      ]
    },
    {
      "cell_type": "code",
      "metadata": {
        "id": "aGf-zVWJf57E",
        "colab_type": "code",
        "colab": {}
      },
      "source": [
        "df_temp = df.groupby('Date')['Confirmed','Deaths','Recovered','Active'].sum().reset_index()"
      ],
      "execution_count": 0,
      "outputs": []
    },
    {
      "cell_type": "markdown",
      "metadata": {
        "id": "k81jRkJwC7aa",
        "colab_type": "text"
      },
      "source": [
        "Reeorganizando o Dataframe por data de acordo com a quantidade de casos recuperados, mortos e ativos."
      ]
    },
    {
      "cell_type": "code",
      "metadata": {
        "id": "rcvgHDJOAGaM",
        "colab_type": "code",
        "colab": {}
      },
      "source": [
        "df_temp = df_temp.melt(id_vars=\"Date\", value_vars=['Recovered', 'Deaths', 'Active'],\n",
        "                 var_name='Case', value_name='Count')"
      ],
      "execution_count": 0,
      "outputs": []
    },
    {
      "cell_type": "code",
      "metadata": {
        "id": "i6CVtBGIC0Hh",
        "colab_type": "code",
        "colab": {
          "base_uri": "https://localhost:8080/",
          "height": 204
        },
        "outputId": "e99904f3-ac30-447a-c79a-1c1e369344d3"
      },
      "source": [
        "df_temp.head(5)"
      ],
      "execution_count": 21,
      "outputs": [
        {
          "output_type": "execute_result",
          "data": {
            "text/html": [
              "<div>\n",
              "<style scoped>\n",
              "    .dataframe tbody tr th:only-of-type {\n",
              "        vertical-align: middle;\n",
              "    }\n",
              "\n",
              "    .dataframe tbody tr th {\n",
              "        vertical-align: top;\n",
              "    }\n",
              "\n",
              "    .dataframe thead th {\n",
              "        text-align: right;\n",
              "    }\n",
              "</style>\n",
              "<table border=\"1\" class=\"dataframe\">\n",
              "  <thead>\n",
              "    <tr style=\"text-align: right;\">\n",
              "      <th></th>\n",
              "      <th>Date</th>\n",
              "      <th>Case</th>\n",
              "      <th>Count</th>\n",
              "    </tr>\n",
              "  </thead>\n",
              "  <tbody>\n",
              "    <tr>\n",
              "      <th>0</th>\n",
              "      <td>2020-01-22</td>\n",
              "      <td>Recovered</td>\n",
              "      <td>28</td>\n",
              "    </tr>\n",
              "    <tr>\n",
              "      <th>1</th>\n",
              "      <td>2020-01-23</td>\n",
              "      <td>Recovered</td>\n",
              "      <td>30</td>\n",
              "    </tr>\n",
              "    <tr>\n",
              "      <th>2</th>\n",
              "      <td>2020-01-24</td>\n",
              "      <td>Recovered</td>\n",
              "      <td>35</td>\n",
              "    </tr>\n",
              "    <tr>\n",
              "      <th>3</th>\n",
              "      <td>2020-01-25</td>\n",
              "      <td>Recovered</td>\n",
              "      <td>38</td>\n",
              "    </tr>\n",
              "    <tr>\n",
              "      <th>4</th>\n",
              "      <td>2020-01-26</td>\n",
              "      <td>Recovered</td>\n",
              "      <td>51</td>\n",
              "    </tr>\n",
              "  </tbody>\n",
              "</table>\n",
              "</div>"
            ],
            "text/plain": [
              "        Date       Case  Count\n",
              "0 2020-01-22  Recovered     28\n",
              "1 2020-01-23  Recovered     30\n",
              "2 2020-01-24  Recovered     35\n",
              "3 2020-01-25  Recovered     38\n",
              "4 2020-01-26  Recovered     51"
            ]
          },
          "metadata": {
            "tags": []
          },
          "execution_count": 21
        }
      ]
    },
    {
      "cell_type": "markdown",
      "metadata": {
        "id": "FP4K6OuTm7gR",
        "colab_type": "text"
      },
      "source": [
        "**Análises dos dados**\n",
        "\n",
        "\n",
        "Vamos analisar os dados do Brasil:\n",
        "\n",
        "* Primeiro passo: investigar as variáveis que temos a nossa disposição. Temos as informaçẽos disponíveis por Estado? "
      ]
    },
    {
      "cell_type": "code",
      "metadata": {
        "id": "ejFVLkqOgGu1",
        "colab_type": "code",
        "colab": {}
      },
      "source": [
        "df.loc[df.countryregion == 'Brazil']"
      ],
      "execution_count": 0,
      "outputs": []
    },
    {
      "cell_type": "markdown",
      "metadata": {
        "id": "G_PqINN4tCy7",
        "colab_type": "text"
      },
      "source": [
        "No Brasil não temos a informação de casos de COVID-19 a nível de estado. Verificaremos algumas outras varíaveis para verificar o avanço do COVID-19 no país."
      ]
    }
  ]
}